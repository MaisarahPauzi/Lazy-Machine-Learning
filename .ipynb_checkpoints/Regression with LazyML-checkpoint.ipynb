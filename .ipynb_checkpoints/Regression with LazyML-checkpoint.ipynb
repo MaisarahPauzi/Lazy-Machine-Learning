{
 "cells": [
  {
   "cell_type": "code",
   "execution_count": 38,
   "metadata": {
    "id": "LpqidZMfTi-f"
   },
   "outputs": [],
   "source": [
    "import requests\n",
    "from bs4 import BeautifulSoup\n",
    "from datetime import datetime, timedelta\n",
    "import csv"
   ]
  },
  {
   "cell_type": "code",
   "execution_count": 39,
   "metadata": {
    "id": "5LUdyM5LXgF8"
   },
   "outputs": [],
   "source": [
    "# define month name in bahasa Malaysia\n",
    "months_name = {\n",
    "    1: 'januari',\n",
    "    2: 'februari',\n",
    "    3: 'mac',\n",
    "    4: 'april',\n",
    "    5: 'mei',\n",
    "    6: 'jun',\n",
    "    7: 'julai',\n",
    "    8: 'ogos',\n",
    "    9: 'september',\n",
    "    10: 'oktober',\n",
    "    11: 'november',\n",
    "    12: 'disember'\n",
    "}\n"
   ]
  },
  {
   "cell_type": "code",
   "execution_count": 40,
   "metadata": {
    "id": "W2c75Nl4KGr9"
   },
   "outputs": [],
   "source": [
    "def scrap_icu_case_date(day, month, year):\n",
    "  URL = f\"https://kpkesihatan.com/{year}/{month}/{day}/kenyataan-akhbar-kpk-{day}-{months_name[month]}-{year}-situasi-semasa-jangkitan-penyakit-coronavirus-2019-covid-19-di-malaysia\"\n",
    "  # get request\n",
    "  response = requests.get(URL)\n",
    "  if response.status_code == 200:\n",
    "    html_text = response.text\n",
    "\n",
    "    # scrap\n",
    "    soup = BeautifulSoup(html_text)\n",
    "    li = soup.findAll('li')\n",
    "    keyword = '(ICU)'\n",
    "    keyword2 = 'pernafasan'\n",
    "    keyword3 = 'kematian'\n",
    "    for l in li:\n",
    "      if keyword in l.text:\n",
    "        date = f'{day}/{month}/{year}'\n",
    "\n",
    "        _, keyword, data = l.text.partition(keyword)\n",
    "        data = data.replace('\\xa0',' ').split(' ')\n",
    "        if len(data) == 3:\n",
    "          icu_cases = data[1].replace(':','')\n",
    "        else:\n",
    "          icu_cases = data[2]\n",
    "\n",
    "      if keyword2 in l.text:\n",
    "        _, keyword2, data2 = l.text.partition(keyword2)\n",
    "        data2 = data2.replace('\\xa0',' ').split(' ')\n",
    "        respiratory = data2[2]\n",
    "\n",
    "      if keyword3 in l.text:\n",
    "        _, keyword3, data3 = l.text.partition(keyword3)\n",
    "        data3 = data3.replace('\\xa0',' ').split(' ')\n",
    "        dd = data3[1].split(':')[1]\n",
    "        if dd == '':\n",
    "          deaths = data3[2]\n",
    "        else:\n",
    "          deaths = dd\n",
    "        \n",
    "        return icu_cases, respiratory, deaths\n",
    "  else:\n",
    "    print('Unable to connect to URL')"
   ]
  },
  {
   "cell_type": "code",
   "execution_count": 41,
   "metadata": {
    "colab": {
     "base_uri": "https://localhost:8080/"
    },
    "id": "R9PwqcS7NKP7",
    "outputId": "68da66ec-f609-4d95-b511-038e8f767b39"
   },
   "outputs": [
    {
     "name": "stdout",
     "output_type": "stream",
     "text": [
      "['20/1/2021', '21/1/2021', '22/1/2021', '23/1/2021', '24/1/2021', '25/1/2021', '26/1/2021', '27/1/2021', '28/1/2021', '29/1/2021', '30/1/2021', '31/1/2021', '1/2/2021', '2/2/2021', '3/2/2021', '4/2/2021', '5/2/2021', '6/2/2021', '7/2/2021', '8/2/2021', '9/2/2021', '10/2/2021', '11/2/2021', '12/2/2021', '13/2/2021', '14/2/2021', '15/2/2021', '16/2/2021', '17/2/2021', '18/2/2021', '19/2/2021', '20/2/2021', '21/2/2021', '22/2/2021', '23/2/2021', '24/2/2021', '25/2/2021', '26/2/2021', '27/2/2021', '28/2/2021', '1/3/2021', '2/3/2021', '3/3/2021', '4/3/2021', '5/3/2021', '6/3/2021', '7/3/2021', '8/3/2021', '9/3/2021', '10/3/2021', '11/3/2021', '12/3/2021', '13/3/2021', '14/3/2021', '15/3/2021', '16/3/2021', '17/3/2021', '18/3/2021', '19/3/2021', '20/3/2021', '21/3/2021', '22/3/2021', '23/3/2021', '24/3/2021', '25/3/2021', '26/3/2021', '27/3/2021', '28/3/2021', '29/3/2021', '30/3/2021', '31/3/2021', '1/4/2021', '2/4/2021', '3/4/2021', '4/4/2021', '5/4/2021', '6/4/2021', '7/4/2021', '8/4/2021', '9/4/2021', '10/4/2021', '11/4/2021', '12/4/2021', '13/4/2021', '14/4/2021', '15/4/2021', '16/4/2021', '17/4/2021', '18/4/2021', '19/4/2021', '20/4/2021', '21/4/2021', '22/4/2021', '23/4/2021', '24/4/2021', '25/4/2021', '26/4/2021', '27/4/2021', '28/4/2021', '29/4/2021', '30/4/2021', '1/5/2021', '2/5/2021', '3/5/2021', '4/5/2021', '5/5/2021', '6/5/2021', '7/5/2021', '8/5/2021', '9/5/2021', '10/5/2021', '11/5/2021', '12/5/2021', '13/5/2021', '14/5/2021', '15/5/2021', '16/5/2021', '17/5/2021', '18/5/2021', '19/5/2021', '20/5/2021', '21/5/2021', '22/5/2021', '23/5/2021', '24/5/2021', '25/5/2021', '26/5/2021', '27/5/2021']\n",
      "['246', '260', '251', '260', '265', '261', '280', '314', '303', '301', '319', '313', '316', '327', '307', '308', '310', '305', '292', '282', '289', '285', '259', '258', '263', '260', '260', '253', '231', '227', '220', '207', '209', '199', '196', '189', '205', '201', '190', '202', '198', '204', '195', '193', '184', '172', '174', '160', '155', '151', '147', '147', '162', '158', '155', '152', '154', '155', '151', '151', '154', '156', '148', '161', '157', '161', '167', '169', '166', '161', '164', '163', '168', '167', '186', '180', '189', '194', '186', '169', '194', '183', '188', '199', '204', '212', '227', '225', '219', '228', '249', '248', '248', '260', '272', '283', '300', '294', '306', '309', '328', '337', '345', '352', '338', '328', '354', '372', '393', '416', '434', '453', '469', '481', '482', '503', '520', '522', '531', '559', '587', '643', '652', '681', '711', '726', '756', '771']\n",
      "['96', '103', '102', '103', '102', '101', '111', '122', '118', '115', '120', '127', '137', '145', '141', '135', '134', '139', '140', '134', '127', '131', '122', '119', '118', '111', '112', '118', '115', '103', '104', '91', '91', '91', '92', '88', '91', '93', '99', '93', '90', '96', '95', '99', '87', '84', '81', '79', '76', '72', '61', '67', '70', '71', '70', '68', '64', '54', '57', '64', '65', '60', '62', '73', '72', '70', '72', '76', '73', '76', '81', '81', '78', '81', '94', '89', '88', '86', '81', '79', '81', '81', '84', '82', '79', '82', '91', '92', '90', '93', '95', '101', '115', '125', '124', '121', '133', '138', '151', '147', '161', '176', '175', '186', '181', '185', '199', '211', '210', '216', '224', '244', '244', '247', '250', '272', '272', '273', '277', '303', '330', '363', '370', '361', '369', '373', '377', '392']\n",
      "['11', '12', '18', '7', '11', '11', '11', '7', '10', '16', '13', '14', '10', '21', '18', '17', '19', '12', '15', '24', '13', '14', '13', '17', '5', '7', '10', '8', '22', '25', '13', '8', '5', '6', '14', '12', '12', '11', '10', '9', '5', '6', '7', '5', '6', '7', '3', '8', '9', '5', '9', '3', '3', '4', '3', '5', '2', '3', '2', '4', '4', '5', '6', '2', '2', '1', '2', '4', '5', '5', '7', '6', '5', '3', '2', '7', '5', '4', '4', '5', '8', '8', '4', '12', '8', '10', '2', '5', '8', '8', '3', '11', '7', '8', '11', '10', '13', '13', '15', '15', '14', '15', '12', '18', '23', '17', '19', '22', '25', '26', '17', '22', '39', '27', '34', '44', '36', '45', '47', '46', '59', '50', '50', '49', '61', '60', '63', '59']\n"
     ]
    }
   ],
   "source": [
    "# starting day & month & year\n",
    "start_day = 20\n",
    "start_month = 1\n",
    "start_year = 2021\n",
    "\n",
    "# today's day & month & year\n",
    "year = datetime.now().year\n",
    "month = datetime.now().month\n",
    "day = datetime.now().day\n",
    "\n",
    "# generate datetime objects\n",
    "sdate = datetime(start_year, start_month, start_day)   \n",
    "edate = datetime(year, month, day)  \n",
    "\n",
    "# generate date from start to end date\n",
    "delta = edate - sdate\n",
    "dates = []\n",
    "cases = []\n",
    "res = []\n",
    "newdeaths = []\n",
    "for i in range(delta.days + 1):\n",
    "    d = sdate + timedelta(days=i)\n",
    "\n",
    "    icu_cases, respiratory, deaths = scrap_icu_case_date(d.day, d.month,  d.year)\n",
    "    if icu_cases is not None:\n",
    "      if respiratory is not None:\n",
    "        if deaths is not None:\n",
    "          dates.append(f\"{d.day}/{d.month}/{d.year}\")\n",
    "          cases.append(icu_cases)\n",
    "          res.append(respiratory)\n",
    "          newdeaths.append(deaths)\n",
    "print(dates)\n",
    "print(cases)\n",
    "print(res)\n",
    "print(newdeaths)\n"
   ]
  },
  {
   "cell_type": "code",
   "execution_count": 42,
   "metadata": {
    "id": "KumbajGax9X9"
   },
   "outputs": [],
   "source": [
    "with open('content/critical_data.csv', mode='w') as file:\n",
    "    writer = csv.writer(file, delimiter=',', quotechar='\"', quoting=csv.QUOTE_MINIMAL)\n",
    "    writer.writerow(['date', 'patient_in_icu', 'patient_on_ventilator_support', 'new_death_cases'])\n",
    "\n",
    "    for i in range(len(dates)):\n",
    "      writer.writerow([dates[i], cases[i], res[i], newdeaths[i]])\n"
   ]
  },
  {
   "cell_type": "code",
   "execution_count": 43,
   "metadata": {
    "colab": {
     "base_uri": "https://localhost:8080/",
     "height": 267
    },
    "id": "dIpF0ucDzARi",
    "outputId": "3ebbe2f7-ac1d-4165-c540-1941bfa08ca4"
   },
   "outputs": [
    {
     "data": {
      "image/png": "[encoded data removed]",
      "text/plain": [
       "<Figure size 432x288 with 1 Axes>"
      ]
     },
     "metadata": {
      "needs_background": "light"
     },
     "output_type": "display_data"
    }
   ],
   "source": [
    "# libraries\n",
    "import matplotlib.pyplot as plt\n",
    "import numpy as np\n",
    "import pandas as pd\n",
    " \n",
    "# Data\n",
    "df=pd.read_csv('content/critical_data.csv')\n",
    " \n",
    "# multiple line plots\n",
    "plt.plot( 'date', 'patient_in_icu', data=df)\n",
    "plt.plot( 'date', 'patient_on_ventilator_support', data=df)\n",
    "plt.plot( 'date', 'new_death_cases', data=df)\n",
    "# show legend\n",
    "plt.legend()\n",
    "\n",
    "# show graph\n",
    "plt.show()"
   ]
  },
  {
   "cell_type": "code",
   "execution_count": 44,
   "metadata": {},
   "outputs": [
    {
     "name": "stderr",
     "output_type": "stream",
     "text": [
      "100%|██████████████████████████████████████████████████████████████████████████████████| 42/42 [00:00<00:00, 43.85it/s]"
     ]
    },
    {
     "name": "stdout",
     "output_type": "stream",
     "text": [
      "                               Adjusted R-Squared  R-Squared  RMSE  Time Taken\n",
      "Model                                                                         \n",
      "SGDRegressor                                 0.89       0.89  4.67        0.01\n",
      "BayesianRidge                                0.88       0.89  4.80        0.01\n",
      "ElasticNetCV                                 0.88       0.88  4.86        0.06\n",
      "Ridge                                        0.88       0.88  4.88        0.01\n",
      "RidgeCV                                      0.88       0.88  4.88        0.01\n",
      "TransformedTargetRegressor                   0.88       0.88  4.94        0.01\n",
      "LinearRegression                             0.88       0.88  4.94        0.01\n",
      "Lars                                         0.88       0.88  4.94        0.02\n",
      "OrthogonalMatchingPursuitCV                  0.88       0.88  4.94        0.01\n",
      "OrthogonalMatchingPursuit                    0.87       0.88  4.97        0.01\n",
      "HuberRegressor                               0.87       0.88  4.98        0.03\n",
      "ExtraTreesRegressor                          0.87       0.88  5.01        0.08\n",
      "LassoLarsCV                                  0.87       0.87  5.02        0.02\n",
      "LarsCV                                       0.87       0.87  5.02        0.01\n",
      "LassoCV                                      0.87       0.87  5.14        0.06\n",
      "Lasso                                        0.86       0.86  5.23        0.01\n",
      "LassoLarsIC                                  0.86       0.86  5.33        0.01\n",
      "RandomForestRegressor                        0.86       0.86  5.34        0.10\n",
      "AdaBoostRegressor                            0.85       0.85  5.40        0.07\n",
      "GradientBoostingRegressor                    0.85       0.85  5.42        0.02\n",
      "DecisionTreeRegressor                        0.85       0.85  5.49        0.01\n",
      "BaggingRegressor                             0.85       0.85  5.51        0.02\n",
      "ExtraTreeRegressor                           0.85       0.85  5.51        0.01\n",
      "XGBRegressor                                 0.84       0.85  5.54        0.04\n",
      "PoissonRegressor                             0.84       0.85  5.57        0.01\n",
      "PassiveAggressiveRegressor                   0.83       0.84  5.72        0.01\n",
      "ElasticNet                                   0.81       0.81  6.13        0.01\n",
      "LassoLars                                    0.80       0.80  6.35        0.01\n",
      "GammaRegressor                               0.79       0.79  6.44        0.01\n",
      "RANSACRegressor                              0.75       0.75  7.08        0.01\n",
      "GeneralizedLinearRegressor                   0.74       0.75  7.11        0.01\n",
      "TweedieRegressor                             0.74       0.75  7.11        0.01\n",
      "KNeighborsRegressor                          0.69       0.69  7.85        0.02\n",
      "LinearSVR                                    0.30       0.32 11.72        0.01\n",
      "SVR                                          0.20       0.21 12.56        0.01\n",
      "NuSVR                                        0.16       0.17 12.90        0.01\n",
      "GaussianProcessRegressor                    -0.03      -0.02 14.29        0.01\n",
      "MLPRegressor                                -0.04      -0.02 14.31        0.07\n",
      "HistGradientBoostingRegressor               -0.10      -0.08 14.75        0.05\n",
      "DummyRegressor                              -0.10      -0.08 14.75        0.01\n",
      "LGBMRegressor                               -0.10      -0.08 14.75        0.03\n",
      "KernelRidge                                 -0.56      -0.53 17.55        0.02\n"
     ]
    },
    {
     "name": "stderr",
     "output_type": "stream",
     "text": [
      "\n"
     ]
    }
   ],
   "source": [
    "from lazypredict.Supervised import LazyRegressor\n",
    "from sklearn import datasets\n",
    "from sklearn.utils import shuffle\n",
    "import numpy as np\n",
    "from sklearn.model_selection import train_test_split\n",
    "\n",
    "X = df[['patient_in_icu', 'patient_on_ventilator_support']]\n",
    "y = df['new_death_cases']\n",
    "\n",
    "X_train, X_test, y_train, y_test = train_test_split(X, y,test_size=.9,random_state =0)\n",
    "\n",
    "reg = LazyRegressor(verbose=0, ignore_warnings=False, custom_metric=None)\n",
    "models, predictions = reg.fit(X_train, X_test, y_train, y_test)\n",
    "\n",
    "print(models)"
   ]
  },
  {
   "cell_type": "code",
   "execution_count": 45,
   "metadata": {},
   "outputs": [
    {
     "name": "stdout",
     "output_type": "stream",
     "text": [
      "0.9067837461238366\n"
     ]
    }
   ],
   "source": [
    "from sklearn import linear_model\n",
    "from sklearn.metrics import r2_score\n",
    "\n",
    "regr = linear_model.LinearRegression()\n",
    "regr.fit(X, y)\n",
    "y_pred_ls = regr.predict(X) \n",
    "print(r2_score(y, y_pred_ls))"
   ]
  },
  {
   "cell_type": "code",
   "execution_count": 49,
   "metadata": {},
   "outputs": [
    {
     "data": {
      "text/plain": [
       "array([78.89276514])"
      ]
     },
     "execution_count": 49,
     "metadata": {},
     "output_type": "execute_result"
    }
   ],
   "source": [
    "new_predictions = regr.predict([[1000, 500]])\n",
    "new_predictions"
   ]
  }
 ],
 "metadata": {
  "colab": {
   "collapsed_sections": [],
   "name": "Scrap Blog KP Kesihatan v4.ipynb",
   "provenance": [],
   "toc_visible": true
  },
  "kernelspec": {
   "display_name": "Python 3",
   "language": "python",
   "name": "python3"
  },
  "language_info": {
   "codemirror_mode": {
    "name": "ipython",
    "version": 3
   },
   "file_extension": ".py",
   "mimetype": "text/x-python",
   "name": "python",
   "nbconvert_exporter": "python",
   "pygments_lexer": "ipython3",
   "version": "3.8.5"
  }
 },
 "nbformat": 4,
 "nbformat_minor": 1
}
